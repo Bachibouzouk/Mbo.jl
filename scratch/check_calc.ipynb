{
 "cells": [
  {
   "cell_type": "code",
   "execution_count": 1,
   "metadata": {
    "ExecuteTime": {
     "end_time": "2018-04-04T22:55:09.063000-04:00",
     "start_time": "2018-04-05T02:55:06.840Z"
    }
   },
   "outputs": [],
   "source": [
    "# check automated calculation"
   ]
  },
  {
   "cell_type": "code",
   "execution_count": 2,
   "metadata": {
    "ExecuteTime": {
     "end_time": "2018-04-04T22:55:09.080000-04:00",
     "start_time": "2018-04-05T02:55:06.844Z"
    }
   },
   "outputs": [],
   "source": [
    "# Two level system"
   ]
  },
  {
   "cell_type": "code",
   "execution_count": 1,
   "metadata": {
    "ExecuteTime": {
     "end_time": "2018-04-04T23:00:28.036000-04:00",
     "start_time": "2018-04-05T03:00:20.972Z"
    }
   },
   "outputs": [
    {
     "ename": "LoadError",
     "evalue": "LoadError: LoadError: \u001b[91mUndefVarError: T not defined\u001b[39m\nwhile loading C:\\work\\src\\Mbo\\src\\core.jl, in expression starting on line 14\nwhile loading C:\\work\\src\\Mbo\\src\\Mbo.jl, in expression starting on line 11",
     "output_type": "error",
     "traceback": [
      "LoadError: LoadError: \u001b[91mUndefVarError: T not defined\u001b[39m\nwhile loading C:\\work\\src\\Mbo\\src\\core.jl, in expression starting on line 14\nwhile loading C:\\work\\src\\Mbo\\src\\Mbo.jl, in expression starting on line 11",
      "",
      "Stacktrace:",
      " [1] \u001b[1minclude_from_node1\u001b[22m\u001b[22m\u001b[1m(\u001b[22m\u001b[22m::String\u001b[1m)\u001b[22m\u001b[22m at \u001b[1m.\\loading.jl:569\u001b[22m\u001b[22m",
      " [2] \u001b[1minclude\u001b[22m\u001b[22m\u001b[1m(\u001b[22m\u001b[22m::String\u001b[1m)\u001b[22m\u001b[22m at \u001b[1m.\\sysimg.jl:14\u001b[22m\u001b[22m",
      " [3] \u001b[1minclude_from_node1\u001b[22m\u001b[22m\u001b[1m(\u001b[22m\u001b[22m::String\u001b[1m)\u001b[22m\u001b[22m at \u001b[1m.\\loading.jl:569\u001b[22m\u001b[22m",
      " [4] \u001b[1meval\u001b[22m\u001b[22m\u001b[1m(\u001b[22m\u001b[22m::Module, ::Any\u001b[1m)\u001b[22m\u001b[22m at \u001b[1m.\\boot.jl:235\u001b[22m\u001b[22m",
      " [5] \u001b[1m_require\u001b[22m\u001b[22m\u001b[1m(\u001b[22m\u001b[22m::Symbol\u001b[1m)\u001b[22m\u001b[22m at \u001b[1m.\\loading.jl:483\u001b[22m\u001b[22m",
      " [6] \u001b[1mrequire\u001b[22m\u001b[22m\u001b[1m(\u001b[22m\u001b[22m::Symbol\u001b[1m)\u001b[22m\u001b[22m at \u001b[1m.\\loading.jl:398\u001b[22m\u001b[22m",
      " [7] \u001b[1minclude_string\u001b[22m\u001b[22m\u001b[1m(\u001b[22m\u001b[22m::String, ::String\u001b[1m)\u001b[22m\u001b[22m at \u001b[1m.\\loading.jl:515\u001b[22m\u001b[22m"
     ]
    }
   ],
   "source": [
    "using Mbo\n",
    "#include(\"../src\\\\core.jl\")"
   ]
  },
  {
   "cell_type": "code",
   "execution_count": 4,
   "metadata": {
    "ExecuteTime": {
     "end_time": "2018-04-04T22:55:10.286000-04:00",
     "start_time": "2018-04-05T02:55:06.852Z"
    }
   },
   "outputs": [
    {
     "data": {
      "text/plain": [
       "Mbo.TimeGrid"
      ]
     },
     "execution_count": 4,
     "metadata": {},
     "output_type": "execute_result"
    }
   ],
   "source": [
    "TimeGrid"
   ]
  },
  {
   "cell_type": "code",
   "execution_count": 5,
   "metadata": {
    "ExecuteTime": {
     "end_time": "2018-04-04T22:55:10.287000-04:00",
     "start_time": "2018-04-05T02:55:06.854Z"
    }
   },
   "outputs": [],
   "source": [
    "# using initial signal"
   ]
  },
  {
   "cell_type": "code",
   "execution_count": 6,
   "metadata": {
    "ExecuteTime": {
     "end_time": "2018-04-04T22:55:12.939000-04:00",
     "start_time": "2018-04-05T02:55:06.856Z"
    }
   },
   "outputs": [],
   "source": [
    "n = 20\n",
    "t1_g = linspace(0, 200, n)\n",
    "t2_g = linspace(0, 200, n)\n",
    "t3_g = linspace(0, 200, n)\n",
    "wframe = 1\n",
    "wa = 1-wframe\n",
    "const gamma = 0.135\n",
    "g(t) = g_homo(t, gamma)\n",
    "\n",
    "sig_org = R1.(reshape(t1_g, (n, 1, 1)),\n",
    "                  reshape(t2_g, (1, n, 1)),\n",
    "                  reshape(t3_g, (1, 1, n)),\n",
    "                  wa, 0, wa,\n",
    "                  g, zero, g, zero, g, zero);"
   ]
  },
  {
   "cell_type": "code",
   "execution_count": 7,
   "metadata": {
    "ExecuteTime": {
     "end_time": "2018-04-04T22:55:13.258000-04:00",
     "start_time": "2018-04-05T02:55:06.862Z"
    }
   },
   "outputs": [],
   "source": [
    "s = System()\n",
    "push!(s.grounds, \"G\")\n",
    "energy!(s, \"G\", 0)\n",
    "energy!(s, \"A\", wa)\n",
    "for a in states(s), b in states(s)\n",
    "    dipole!(s, a, b, 1)\n",
    "end\n",
    "lineshape!(s, \"A\", \"A\", g)\n",
    "lineshape!(s, \"G\", \"G\", zero)\n",
    "lineshape!(s, \"G\", \"A\", zero)\n",
    "lineshape!(s, \"A\", \"G\", zero)\n",
    "\n",
    "grd = TimeGrid(t1_g, t2_g, t3_g);"
   ]
  },
  {
   "cell_type": "code",
   "execution_count": 8,
   "metadata": {
    "ExecuteTime": {
     "end_time": "2018-04-04T22:55:14.730000-04:00",
     "start_time": "2018-04-05T02:55:06.866Z"
    }
   },
   "outputs": [
    {
     "ename": "LoadError",
     "evalue": "\u001b[91mMethodError: no method matching endof(::Mbo.HilbertPath{5})\u001b[0m\nClosest candidates are:\n  endof(\u001b[91m::SimpleVector\u001b[39m) at essentials.jl:257\n  endof(\u001b[91m::Char\u001b[39m) at char.jl:18\n  endof(\u001b[91m::String\u001b[39m) at strings/string.jl:153\n  ...\u001b[39m",
     "output_type": "error",
     "traceback": [
      "\u001b[91mMethodError: no method matching endof(::Mbo.HilbertPath{5})\u001b[0m\nClosest candidates are:\n  endof(\u001b[91m::SimpleVector\u001b[39m) at essentials.jl:257\n  endof(\u001b[91m::Char\u001b[39m) at char.jl:18\n  endof(\u001b[91m::String\u001b[39m) at strings/string.jl:153\n  ...\u001b[39m",
      "",
      "Stacktrace:",
      " [1] \u001b[1mcheck_channel_state\u001b[22m\u001b[22m\u001b[1m(\u001b[22m\u001b[22m::Channel{Any}\u001b[1m)\u001b[22m\u001b[22m at \u001b[1m.\\channels.jl:131\u001b[22m\u001b[22m",
      " [2] \u001b[1mtake_unbuffered\u001b[22m\u001b[22m\u001b[1m(\u001b[22m\u001b[22m::Channel{Any}\u001b[1m)\u001b[22m\u001b[22m at \u001b[1m.\\channels.jl:329\u001b[22m\u001b[22m",
      " [3] \u001b[1mtake!\u001b[22m\u001b[22m\u001b[1m(\u001b[22m\u001b[22m::Channel{Any}\u001b[1m)\u001b[22m\u001b[22m at \u001b[1m.\\channels.jl:317\u001b[22m\u001b[22m",
      " [4] \u001b[1mdone\u001b[22m\u001b[22m\u001b[1m(\u001b[22m\u001b[22m::Channel{Any}, ::Base.ChannelIterState{Any}\u001b[1m)\u001b[22m\u001b[22m at \u001b[1m.\\channels.jl:406\u001b[22m\u001b[22m",
      " [5] \u001b[1m_collect\u001b[22m\u001b[22m\u001b[1m(\u001b[22m\u001b[22m::UnitRange{Int64}, ::Channel{Any}, ::Base.HasEltype, ::Base.SizeUnknown\u001b[1m)\u001b[22m\u001b[22m at \u001b[1m.\\array.jl:408\u001b[22m\u001b[22m",
      " [6] \u001b[1mcollect\u001b[22m\u001b[22m\u001b[1m(\u001b[22m\u001b[22m::Channel{Any}\u001b[1m)\u001b[22m\u001b[22m at \u001b[1m.\\array.jl:397\u001b[22m\u001b[22m",
      " [7] \u001b[1minclude_string\u001b[22m\u001b[22m\u001b[1m(\u001b[22m\u001b[22m::String, ::String\u001b[1m)\u001b[22m\u001b[22m at \u001b[1m.\\loading.jl:515\u001b[22m\u001b[22m"
     ]
    }
   ],
   "source": [
    "p = collect(hilbert_paths(s, 3))[1]"
   ]
  },
  {
   "cell_type": "code",
   "execution_count": 23,
   "metadata": {
    "ExecuteTime": {
     "end_time": "2018-04-04T22:56:35.894000-04:00",
     "start_time": "2018-04-05T02:56:35.890Z"
    }
   },
   "outputs": [
    {
     "data": {
      "text/plain": [
       "Channel{Any}(sz_max:0,sz_curr:0)"
      ]
     },
     "execution_count": 23,
     "metadata": {},
     "output_type": "execute_result"
    }
   ],
   "source": [
    "c = hilbert_paths(s, 3)"
   ]
  },
  {
   "cell_type": "code",
   "execution_count": 28,
   "metadata": {
    "ExecuteTime": {
     "end_time": "2018-04-04T22:58:42.413000-04:00",
     "start_time": "2018-04-05T02:58:42.380Z"
    }
   },
   "outputs": [
    {
     "ename": "LoadError",
     "evalue": "\u001b[91mMethodError: no method matching endof(::Mbo.HilbertPath{5})\u001b[0m\nClosest candidates are:\n  endof(\u001b[91m::SimpleVector\u001b[39m) at essentials.jl:257\n  endof(\u001b[91m::Char\u001b[39m) at char.jl:18\n  endof(\u001b[91m::String\u001b[39m) at strings/string.jl:153\n  ...\u001b[39m",
     "output_type": "error",
     "traceback": [
      "\u001b[91mMethodError: no method matching endof(::Mbo.HilbertPath{5})\u001b[0m\nClosest candidates are:\n  endof(\u001b[91m::SimpleVector\u001b[39m) at essentials.jl:257\n  endof(\u001b[91m::Char\u001b[39m) at char.jl:18\n  endof(\u001b[91m::String\u001b[39m) at strings/string.jl:153\n  ...\u001b[39m",
      "",
      "Stacktrace:",
      " [1] \u001b[1mcheck_channel_state\u001b[22m\u001b[22m\u001b[1m(\u001b[22m\u001b[22m::Channel{Any}\u001b[1m)\u001b[22m\u001b[22m at \u001b[1m.\\channels.jl:131\u001b[22m\u001b[22m",
      " [2] \u001b[1mtake_unbuffered\u001b[22m\u001b[22m\u001b[1m(\u001b[22m\u001b[22m::Channel{Any}\u001b[1m)\u001b[22m\u001b[22m at \u001b[1m.\\channels.jl:329\u001b[22m\u001b[22m",
      " [3] \u001b[1mtake!\u001b[22m\u001b[22m\u001b[1m(\u001b[22m\u001b[22m::Channel{Any}\u001b[1m)\u001b[22m\u001b[22m at \u001b[1m.\\channels.jl:317\u001b[22m\u001b[22m",
      " [4] \u001b[1mdone\u001b[22m\u001b[22m\u001b[1m(\u001b[22m\u001b[22m::Channel{Any}, ::Base.ChannelIterState{Any}\u001b[1m)\u001b[22m\u001b[22m at \u001b[1m.\\channels.jl:406\u001b[22m\u001b[22m",
      " [5] \u001b[1mgrow_to!\u001b[22m\u001b[22m\u001b[1m(\u001b[22m\u001b[22m::Array{Union{},1}, ::Base.Generator{Channel{Any},##7#8}, ::Base.ChannelIterState{Any}\u001b[1m)\u001b[22m\u001b[22m at \u001b[1m.\\array.jl:497\u001b[22m\u001b[22m",
      " [6] \u001b[1mgrow_to!\u001b[22m\u001b[22m\u001b[1m(\u001b[22m\u001b[22m::Array{Any,1}, ::Base.Generator{Channel{Any},##7#8}\u001b[1m)\u001b[22m\u001b[22m at \u001b[1m.\\array.jl:491\u001b[22m\u001b[22m",
      " [7] \u001b[1mcollect\u001b[22m\u001b[22m\u001b[1m(\u001b[22m\u001b[22m::Base.Generator{Channel{Any},##7#8}\u001b[1m)\u001b[22m\u001b[22m at \u001b[1m.\\array.jl:435\u001b[22m\u001b[22m",
      " [8] \u001b[1minclude_string\u001b[22m\u001b[22m\u001b[1m(\u001b[22m\u001b[22m::String, ::String\u001b[1m)\u001b[22m\u001b[22m at \u001b[1m.\\loading.jl:515\u001b[22m\u001b[22m"
     ]
    }
   ],
   "source": [
    "[i for i in c]"
   ]
  },
  {
   "cell_type": "code",
   "execution_count": 9,
   "metadata": {
    "ExecuteTime": {
     "end_time": "2018-04-04T22:55:14.800000-04:00",
     "start_time": "2018-04-05T02:55:06.876Z"
    }
   },
   "outputs": [
    {
     "ename": "LoadError",
     "evalue": "\u001b[91mUndefVarError: p not defined\u001b[39m",
     "output_type": "error",
     "traceback": [
      "\u001b[91mUndefVarError: p not defined\u001b[39m",
      "",
      "Stacktrace:",
      " [1] \u001b[1minclude_string\u001b[22m\u001b[22m\u001b[1m(\u001b[22m\u001b[22m::String, ::String\u001b[1m)\u001b[22m\u001b[22m at \u001b[1m.\\loading.jl:515\u001b[22m\u001b[22m"
     ]
    }
   ],
   "source": [
    "dipole(s, p)"
   ]
  },
  {
   "cell_type": "code",
   "execution_count": 10,
   "metadata": {
    "ExecuteTime": {
     "end_time": "2018-04-04T22:55:14.805000-04:00",
     "start_time": "2018-04-05T02:55:06.882Z"
    }
   },
   "outputs": [
    {
     "ename": "LoadError",
     "evalue": "\u001b[91mUndefVarError: p not defined\u001b[39m",
     "output_type": "error",
     "traceback": [
      "\u001b[91mUndefVarError: p not defined\u001b[39m",
      "",
      "Stacktrace:",
      " [1] \u001b[1minclude_string\u001b[22m\u001b[22m\u001b[1m(\u001b[22m\u001b[22m::String, ::String\u001b[1m)\u001b[22m\u001b[22m at \u001b[1m.\\loading.jl:515\u001b[22m\u001b[22m"
     ]
    }
   ],
   "source": [
    "lineshape(s, p)"
   ]
  },
  {
   "cell_type": "code",
   "execution_count": 11,
   "metadata": {
    "ExecuteTime": {
     "end_time": "2018-04-04T22:55:14.812000-04:00",
     "start_time": "2018-04-05T02:55:06.884Z"
    }
   },
   "outputs": [
    {
     "ename": "LoadError",
     "evalue": "\u001b[91mUndefVarError: p not defined\u001b[39m",
     "output_type": "error",
     "traceback": [
      "\u001b[91mUndefVarError: p not defined\u001b[39m",
      "",
      "Stacktrace:",
      " [1] \u001b[1minclude_string\u001b[22m\u001b[22m\u001b[1m(\u001b[22m\u001b[22m::String, ::String\u001b[1m)\u001b[22m\u001b[22m at \u001b[1m.\\loading.jl:515\u001b[22m\u001b[22m"
     ]
    }
   ],
   "source": [
    "R1.(reshape(t1_g, (n, 1, 1)),\n",
    "       reshape(t2_g, (1, n, 1)),\n",
    "       reshape(t3_g, (1, 1, n)),\n",
    "    energy(s, p)[1], energy(s,p)[2], energy(s,p)[3],\n",
    "    lineshape(s, p)...) == sig_org"
   ]
  },
  {
   "cell_type": "code",
   "execution_count": 12,
   "metadata": {
    "ExecuteTime": {
     "end_time": "2018-04-04T22:55:14.816000-04:00",
     "start_time": "2018-04-05T02:55:06.886Z"
    }
   },
   "outputs": [
    {
     "ename": "LoadError",
     "evalue": "\u001b[91mUndefVarError: p not defined\u001b[39m",
     "output_type": "error",
     "traceback": [
      "\u001b[91mUndefVarError: p not defined\u001b[39m",
      "",
      "Stacktrace:",
      " [1] \u001b[1minclude_string\u001b[22m\u001b[22m\u001b[1m(\u001b[22m\u001b[22m::String, ::String\u001b[1m)\u001b[22m\u001b[22m at \u001b[1m.\\loading.jl:515\u001b[22m\u001b[22m"
     ]
    }
   ],
   "source": [
    "R1(grd, energy(s,p), lineshape(s, p)) == sig_org"
   ]
  },
  {
   "cell_type": "code",
   "execution_count": 13,
   "metadata": {
    "ExecuteTime": {
     "end_time": "2018-04-04T22:55:14.821000-04:00",
     "start_time": "2018-04-05T02:55:06.888Z"
    }
   },
   "outputs": [
    {
     "ename": "LoadError",
     "evalue": "\u001b[91mUndefVarError: p not defined\u001b[39m",
     "output_type": "error",
     "traceback": [
      "\u001b[91mUndefVarError: p not defined\u001b[39m",
      "",
      "Stacktrace:",
      " [1] \u001b[1minclude_string\u001b[22m\u001b[22m\u001b[1m(\u001b[22m\u001b[22m::String, ::String\u001b[1m)\u001b[22m\u001b[22m at \u001b[1m.\\loading.jl:515\u001b[22m\u001b[22m"
     ]
    }
   ],
   "source": [
    "R1(grd, s, p) == sig_org"
   ]
  },
  {
   "cell_type": "code",
   "execution_count": 14,
   "metadata": {
    "ExecuteTime": {
     "end_time": "2018-04-04T22:55:14.858000-04:00",
     "start_time": "2018-04-05T02:55:06.892Z"
    }
   },
   "outputs": [
    {
     "ename": "LoadError",
     "evalue": "\u001b[91mMethodError: no method matching R1(::Mbo.TimeGrid{Float64,3}, ::Mbo.System)\u001b[0m\nClosest candidates are:\n  R1(::Mbo.TimeGrid{#s5,3} where #s5<:Real, ::Mbo.System, \u001b[91m::Mbo.HilbertPath{5}\u001b[39m) at C:\\work\\src\\Mbo\\src\\core.jl:6\n  R1(::Mbo.TimeGrid{#s5,3} where #s5<:Real, ::Any, \u001b[91m::Any\u001b[39m) at C:\\work\\src\\Mbo\\src\\core.jl:14\n  R1(::Any, ::Any, \u001b[91m::Any\u001b[39m, \u001b[91m::Tuple{Real,Real,Real}\u001b[39m, \u001b[91m::NTuple{6,Function}\u001b[39m) at C:\\work\\src\\Mbo\\src\\core.jl:13\n  ...\u001b[39m",
     "output_type": "error",
     "traceback": [
      "\u001b[91mMethodError: no method matching R1(::Mbo.TimeGrid{Float64,3}, ::Mbo.System)\u001b[0m\nClosest candidates are:\n  R1(::Mbo.TimeGrid{#s5,3} where #s5<:Real, ::Mbo.System, \u001b[91m::Mbo.HilbertPath{5}\u001b[39m) at C:\\work\\src\\Mbo\\src\\core.jl:6\n  R1(::Mbo.TimeGrid{#s5,3} where #s5<:Real, ::Any, \u001b[91m::Any\u001b[39m) at C:\\work\\src\\Mbo\\src\\core.jl:14\n  R1(::Any, ::Any, \u001b[91m::Any\u001b[39m, \u001b[91m::Tuple{Real,Real,Real}\u001b[39m, \u001b[91m::NTuple{6,Function}\u001b[39m) at C:\\work\\src\\Mbo\\src\\core.jl:13\n  ...\u001b[39m",
      "",
      "Stacktrace:",
      " [1] \u001b[1minclude_string\u001b[22m\u001b[22m\u001b[1m(\u001b[22m\u001b[22m::String, ::String\u001b[1m)\u001b[22m\u001b[22m at \u001b[1m.\\loading.jl:515\u001b[22m\u001b[22m"
     ]
    }
   ],
   "source": [
    "R1(grd, s) == sig_org"
   ]
  },
  {
   "cell_type": "code",
   "execution_count": 15,
   "metadata": {
    "ExecuteTime": {
     "end_time": "2018-04-04T22:55:14.890000-04:00",
     "start_time": "2018-04-05T02:55:06.894Z"
    }
   },
   "outputs": [
    {
     "name": "stderr",
     "output_type": "stream",
     "text": [
      "WARNING: Method definition R1("
     ]
    }
   ],
   "source": [
    "Mbo.R1(t1, t2, t3, ws::NTuple{3,Real}, ls::NTuple{6,Function}) = R1(t1, t2, t3, ws..., ls...)"
   ]
  },
  {
   "cell_type": "code",
   "execution_count": 16,
   "metadata": {
    "ExecuteTime": {
     "end_time": "2018-04-04T22:55:14.894000-04:00",
     "start_time": "2018-04-05T02:55:06.896Z"
    }
   },
   "outputs": [
    {
     "name": "stderr",
     "output_type": "stream",
     "text": [
      "Any, Any, Any, Tuple{Real"
     ]
    },
    {
     "ename": "LoadError",
     "evalue": "\u001b[91mUndefVarError: p not defined\u001b[39m",
     "output_type": "error",
     "traceback": [
      "\u001b[91mUndefVarError: p not defined\u001b[39m",
      "",
      "Stacktrace:",
      " [1] \u001b[1minclude_string\u001b[22m\u001b[22m\u001b[1m(\u001b[22m\u001b[22m::String, ::String\u001b[1m)\u001b[22m\u001b[22m at \u001b[1m.\\loading.jl:515\u001b[22m\u001b[22m"
     ]
    }
   ],
   "source": [
    "R1(0.0, 0.0, 0.0, energy(s,p), lineshape(s,p))"
   ]
  },
  {
   "cell_type": "code",
   "execution_count": 17,
   "metadata": {
    "ExecuteTime": {
     "end_time": "2018-04-04T22:55:14.897000-04:00",
     "start_time": "2018-04-05T02:55:06.900Z"
    }
   },
   "outputs": [
    {
     "name": "stderr",
     "output_type": "stream",
     "text": [
      ", Real, Real}, Tuple{Function"
     ]
    }
   ],
   "source": [
    "Mbo.R1(g::TimeGrid{<:Real,3}, ws, ls) = R1.(grid(g)..., ws, ls)"
   ]
  },
  {
   "cell_type": "code",
   "execution_count": 18,
   "metadata": {
    "ExecuteTime": {
     "end_time": "2018-04-04T22:55:14.905000-04:00",
     "start_time": "2018-04-05T02:55:06.902Z"
    }
   },
   "outputs": [
    {
     "name": "stderr",
     "output_type": "stream",
     "text": [
      ", Function, Function, Function, Function, Function"
     ]
    },
    {
     "ename": "LoadError",
     "evalue": "\u001b[91mUndefVarError: p not defined\u001b[39m",
     "output_type": "error",
     "traceback": [
      "\u001b[91mUndefVarError: p not defined\u001b[39m",
      "",
      "Stacktrace:",
      " [1] \u001b[1minclude_string\u001b[22m\u001b[22m\u001b[1m(\u001b[22m\u001b[22m::String, ::String\u001b[1m)\u001b[22m\u001b[22m at \u001b[1m.\\loading.jl:515\u001b[22m\u001b[22m"
     ]
    },
    {
     "name": "stderr",
     "output_type": "stream",
     "text": [
      "}) in module Mbo at C:\\work\\src\\Mbo\\src\\core.jl:13 overwritten in module Main at In[15]:1.\n",
      "WARNING: Method definition R1(Mbo.TimeGrid{#s12, 3} where #s12<:Real, Any, Any) in module Mbo at C:\\work\\src\\Mbo\\src\\core.jl:14 overwritten in module Main at In[17]:1.\n"
     ]
    }
   ],
   "source": [
    "R1(grd, energy(s,p), lineshape(s,p)) == sig_org"
   ]
  },
  {
   "cell_type": "code",
   "execution_count": null,
   "metadata": {},
   "outputs": [],
   "source": []
  }
 ],
 "metadata": {
  "kernelspec": {
   "display_name": "Julia 0.6.0",
   "language": "julia",
   "name": "julia-0.6"
  },
  "language_info": {
   "file_extension": ".jl",
   "mimetype": "application/julia",
   "name": "julia",
   "version": "0.6.0"
  },
  "toc": {
   "colors": {
    "hover_highlight": "#DAA520",
    "navigate_num": "#000000",
    "navigate_text": "#333333",
    "running_highlight": "#FF0000",
    "selected_highlight": "#FFD700",
    "sidebar_border": "#EEEEEE",
    "wrapper_background": "#FFFFFF"
   },
   "moveMenuLeft": true,
   "nav_menu": {
    "height": "12px",
    "width": "252px"
   },
   "navigate_menu": true,
   "number_sections": true,
   "sideBar": true,
   "threshold": 4,
   "toc_cell": false,
   "toc_section_display": "block",
   "toc_window_display": false,
   "widenNotebook": false
  },
  "varInspector": {
   "cols": {
    "lenName": 16,
    "lenType": 16,
    "lenVar": 40
   },
   "kernels_config": {
    "python": {
     "delete_cmd_postfix": "",
     "delete_cmd_prefix": "del ",
     "library": "var_list.py",
     "varRefreshCmd": "print(var_dic_list())"
    },
    "r": {
     "delete_cmd_postfix": ") ",
     "delete_cmd_prefix": "rm(",
     "library": "var_list.r",
     "varRefreshCmd": "cat(var_dic_list()) "
    }
   },
   "types_to_exclude": [
    "module",
    "function",
    "builtin_function_or_method",
    "instance",
    "_Feature"
   ],
   "window_display": false
  }
 },
 "nbformat": 4,
 "nbformat_minor": 2
}
