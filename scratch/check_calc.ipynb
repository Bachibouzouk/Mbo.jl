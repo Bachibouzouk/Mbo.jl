{
 "cells": [
  {
   "cell_type": "code",
   "execution_count": 1,
   "metadata": {
    "ExecuteTime": {
     "end_time": "2018-04-09T22:01:21.992000-04:00",
     "start_time": "2018-04-10T02:01:21.466Z"
    }
   },
   "outputs": [],
   "source": [
    "# check automated calculation"
   ]
  },
  {
   "cell_type": "code",
   "execution_count": 2,
   "metadata": {
    "ExecuteTime": {
     "end_time": "2018-04-09T22:01:22.013000-04:00",
     "start_time": "2018-04-10T02:01:21.470Z"
    }
   },
   "outputs": [],
   "source": [
    "# Two level system"
   ]
  },
  {
   "cell_type": "code",
   "execution_count": 1,
   "metadata": {
    "ExecuteTime": {
     "end_time": "2018-04-29T12:16:01.578000-04:00",
     "start_time": "2018-04-29T16:16:00.382Z"
    }
   },
   "outputs": [],
   "source": [
    "using Mbo\n",
    "#include(\"../src\\\\core.jl\")"
   ]
  },
  {
   "cell_type": "code",
   "execution_count": 2,
   "metadata": {
    "ExecuteTime": {
     "end_time": "2018-04-29T12:16:01.597000-04:00",
     "start_time": "2018-04-29T16:16:00.654Z"
    }
   },
   "outputs": [],
   "source": [
    "# using initial signal"
   ]
  },
  {
   "cell_type": "code",
   "execution_count": 3,
   "metadata": {
    "ExecuteTime": {
     "end_time": "2018-04-29T12:16:04.160000-04:00",
     "start_time": "2018-04-29T16:16:00.842Z"
    }
   },
   "outputs": [],
   "source": [
    "n = 20\n",
    "t1_g = linspace(0, 200, n)\n",
    "t2_g = linspace(0, 200, n)\n",
    "t3_g = linspace(0, 200, n)\n",
    "wframe = 1\n",
    "wa = 1-wframe\n",
    "const gamma = 0.135\n",
    "g_(t) = g_homo(t, gamma)\n",
    "\n",
    "sig_org = R1.(reshape(t1_g, (n, 1, 1)),\n",
    "                  reshape(t2_g, (1, n, 1)),\n",
    "                  reshape(t3_g, (1, 1, n)),\n",
    "                  wa, 0, wa,\n",
    "                  g_, zero, g_, zero, g_, zero);"
   ]
  },
  {
   "cell_type": "code",
   "execution_count": 4,
   "metadata": {
    "ExecuteTime": {
     "end_time": "2018-04-29T12:16:04.504000-04:00",
     "start_time": "2018-04-29T16:16:04.040Z"
    }
   },
   "outputs": [],
   "source": [
    "s = System()\n",
    "push!(s.grounds, \"G\")\n",
    "energy!(s, \"G\", 0)\n",
    "energy!(s, \"A\", wa)\n",
    "for a in states(s), b in states(s)\n",
    "    dipole!(s, a, b, 1)\n",
    "end\n",
    "lineshape!(s, \"A\", \"A\", g_)\n",
    "lineshape!(s, \"G\", \"G\", zero)\n",
    "lineshape!(s, \"G\", \"A\", zero)\n",
    "lineshape!(s, \"A\", \"G\", zero)\n",
    "\n",
    "grd = TimeGrid(t1_g, t2_g, t3_g);"
   ]
  },
  {
   "cell_type": "code",
   "execution_count": 5,
   "metadata": {
    "ExecuteTime": {
     "end_time": "2018-04-29T12:16:05.366000-04:00",
     "start_time": "2018-04-29T16:16:04.666Z"
    }
   },
   "outputs": [
    {
     "data": {
      "text/plain": [
       "HilbertPath{5}(\"G\", \"A\", \"G\", \"A\", \"G\")"
      ]
     },
     "execution_count": 5,
     "metadata": {},
     "output_type": "execute_result"
    }
   ],
   "source": [
    "p = collect(hilbert_paths(s, 3))[1]"
   ]
  },
  {
   "cell_type": "code",
   "execution_count": 6,
   "metadata": {
    "ExecuteTime": {
     "end_time": "2018-04-29T12:16:06.682000-04:00",
     "start_time": "2018-04-29T16:16:06.514Z"
    }
   },
   "outputs": [
    {
     "data": {
      "text/plain": [
       "HilbertPath{3}(\"G\", \"A\", \"G\")"
      ]
     },
     "execution_count": 6,
     "metadata": {},
     "output_type": "execute_result"
    }
   ],
   "source": [
    "    p1 = HilbertPath(\"G\", \"A\", \"G\")\n",
    "    p2 = HilbertPath(\"G\", \"A\", \"G\")"
   ]
  },
  {
   "cell_type": "code",
   "execution_count": null,
   "metadata": {
    "ExecuteTime": {
     "end_time": "2018-04-18T17:11:16.986000-04:00",
     "start_time": "2018-04-18T21:11:16.682Z"
    }
   },
   "outputs": [],
   "source": []
  },
  {
   "cell_type": "code",
   "execution_count": 7,
   "metadata": {
    "ExecuteTime": {
     "end_time": "2018-04-29T12:16:10.846000-04:00",
     "start_time": "2018-04-29T16:16:10.704Z"
    }
   },
   "outputs": [
    {
     "data": {
      "text/plain": [
       "true"
      ]
     },
     "execution_count": 7,
     "metadata": {},
     "output_type": "execute_result"
    }
   ],
   "source": [
    "p1 == p2"
   ]
  },
  {
   "cell_type": "code",
   "execution_count": 8,
   "metadata": {
    "ExecuteTime": {
     "end_time": "2018-04-29T12:16:11.714000-04:00",
     "start_time": "2018-04-29T16:16:11.494Z"
    }
   },
   "outputs": [
    {
     "name": "stderr",
     "output_type": "stream",
     "text": [
      "WARNING: Method definition (::"
     ]
    },
    {
     "data": {
      "text/plain": [
       "Mbo.HilbertPath"
      ]
     },
     "execution_count": 8,
     "metadata": {},
     "output_type": "execute_result"
    },
    {
     "name": "stderr",
     "output_type": "stream",
     "text": [
      "Type{Mbo.HilbertPath{N} where N})(String...) in module Mbo at C:\\work\\src\\Mbo\\src\\hilbert_path.jl:16 overwritten in module Main at In[8]:1.\n"
     ]
    }
   ],
   "source": [
    "HilbertPath(args::Vararg{String,N}) where {N} = HilbertPath{N}(args)"
   ]
  },
  {
   "cell_type": "code",
   "execution_count": 9,
   "metadata": {
    "ExecuteTime": {
     "end_time": "2018-04-29T12:16:15.607000-04:00",
     "start_time": "2018-04-29T16:16:15.446Z"
    }
   },
   "outputs": [
    {
     "data": {
      "text/plain": [
       "Tuple{String,String,String}"
      ]
     },
     "execution_count": 9,
     "metadata": {},
     "output_type": "execute_result"
    }
   ],
   "source": [
    "NTuple{3,String}"
   ]
  },
  {
   "cell_type": "code",
   "execution_count": 10,
   "metadata": {
    "ExecuteTime": {
     "end_time": "2018-04-29T12:16:16.903000-04:00",
     "start_time": "2018-04-29T16:16:16.486Z"
    }
   },
   "outputs": [
    {
     "ename": "LoadError",
     "evalue": "\u001b[91mUndefVarError: HibertPath not defined\u001b[39m",
     "output_type": "error",
     "traceback": [
      "\u001b[91mUndefVarError: HibertPath not defined\u001b[39m",
      "",
      "Stacktrace:",
      " [1] \u001b[1minclude_string\u001b[22m\u001b[22m\u001b[1m(\u001b[22m\u001b[22m::String, ::String\u001b[1m)\u001b[22m\u001b[22m at \u001b[1m.\\loading.jl:515\u001b[22m\u001b[22m"
     ]
    }
   ],
   "source": [
    "methods(HibertPath)"
   ]
  },
  {
   "cell_type": "code",
   "execution_count": 11,
   "metadata": {
    "ExecuteTime": {
     "end_time": "2018-04-29T12:16:21.121000-04:00",
     "start_time": "2018-04-29T16:16:21.114Z"
    }
   },
   "outputs": [
    {
     "ename": "LoadError",
     "evalue": "\u001b[91mUndefVarError: HibertPath not defined\u001b[39m",
     "output_type": "error",
     "traceback": [
      "\u001b[91mUndefVarError: HibertPath not defined\u001b[39m",
      "",
      "Stacktrace:",
      " [1] \u001b[1minclude_string\u001b[22m\u001b[22m\u001b[1m(\u001b[22m\u001b[22m::String, ::String\u001b[1m)\u001b[22m\u001b[22m at \u001b[1m.\\loading.jl:515\u001b[22m\u001b[22m"
     ]
    }
   ],
   "source": [
    "HibertPath(\"G\", \"A\", \"G\") == HilbertPath((\"G\", \"A\", \"G\"))"
   ]
  },
  {
   "cell_type": "code",
   "execution_count": 7,
   "metadata": {
    "ExecuteTime": {
     "end_time": "2018-04-18T17:06:03.628000-04:00",
     "start_time": "2018-04-18T21:06:03.452Z"
    }
   },
   "outputs": [
    {
     "data": {
      "text/plain": [
       "HilbertPath{3}(\"G\", \"A\", \"G\")"
      ]
     },
     "execution_count": 7,
     "metadata": {},
     "output_type": "execute_result"
    }
   ],
   "source": [
    "HilbertPath((\"G\", \"A\", \"G\"))"
   ]
  },
  {
   "cell_type": "code",
   "execution_count": 13,
   "metadata": {
    "ExecuteTime": {
     "end_time": "2018-04-09T22:13:31.279000-04:00",
     "start_time": "2018-04-10T02:13:31.060Z"
    }
   },
   "outputs": [
    {
     "data": {
      "text/plain": [
       "(1.0, 1.0, 1.0, 1.0)"
      ]
     },
     "execution_count": 13,
     "metadata": {},
     "output_type": "execute_result"
    }
   ],
   "source": [
    "dipole(s, p)"
   ]
  },
  {
   "cell_type": "code",
   "execution_count": 14,
   "metadata": {
    "ExecuteTime": {
     "end_time": "2018-04-09T22:13:31.709000-04:00",
     "start_time": "2018-04-10T02:13:31.484Z"
    }
   },
   "outputs": [
    {
     "data": {
      "text/plain": [
       "(g_, zero, g_, zero, g_, zero)"
      ]
     },
     "execution_count": 14,
     "metadata": {},
     "output_type": "execute_result"
    }
   ],
   "source": [
    "lineshape(s, p)"
   ]
  },
  {
   "cell_type": "code",
   "execution_count": 12,
   "metadata": {
    "ExecuteTime": {
     "end_time": "2018-04-29T12:16:32.775000-04:00",
     "start_time": "2018-04-29T16:16:32.594Z"
    }
   },
   "outputs": [
    {
     "data": {
      "text/plain": [
       "true"
      ]
     },
     "execution_count": 12,
     "metadata": {},
     "output_type": "execute_result"
    }
   ],
   "source": [
    "R1.(reshape(t1_g, (n, 1, 1)),\n",
    "       reshape(t2_g, (1, n, 1)),\n",
    "       reshape(t3_g, (1, 1, n)),\n",
    "    energy(s, p)[1], energy(s,p)[2], energy(s,p)[3],\n",
    "    lineshape(s, p)...) == sig_org"
   ]
  },
  {
   "cell_type": "code",
   "execution_count": 13,
   "metadata": {
    "ExecuteTime": {
     "end_time": "2018-04-29T12:16:34.519000-04:00",
     "start_time": "2018-04-29T16:16:34.318Z"
    }
   },
   "outputs": [
    {
     "data": {
      "text/plain": [
       "1.0 - 0.0im"
      ]
     },
     "execution_count": 13,
     "metadata": {},
     "output_type": "execute_result"
    }
   ],
   "source": [
    "R1(0,0,0, energy(s,p), lineshape(s, p))"
   ]
  },
  {
   "cell_type": "code",
   "execution_count": 14,
   "metadata": {
    "ExecuteTime": {
     "end_time": "2018-04-29T12:16:38.075000-04:00",
     "start_time": "2018-04-29T16:16:37.672Z"
    }
   },
   "outputs": [
    {
     "data": {
      "text/plain": [
       "true"
      ]
     },
     "execution_count": 14,
     "metadata": {},
     "output_type": "execute_result"
    }
   ],
   "source": [
    "R1(grd, s, p) == sig_org"
   ]
  },
  {
   "cell_type": "code",
   "execution_count": 15,
   "metadata": {
    "ExecuteTime": {
     "end_time": "2018-04-29T12:16:39.669000-04:00",
     "start_time": "2018-04-29T16:16:39.478Z"
    }
   },
   "outputs": [
    {
     "data": {
      "text/plain": [
       "true"
      ]
     },
     "execution_count": 15,
     "metadata": {},
     "output_type": "execute_result"
    }
   ],
   "source": [
    "R1(grd, s) == sig_org"
   ]
  },
  {
   "cell_type": "code",
   "execution_count": 19,
   "metadata": {
    "ExecuteTime": {
     "end_time": "2018-04-09T22:13:37.428000-04:00",
     "start_time": "2018-04-10T02:13:37.426Z"
    }
   },
   "outputs": [],
   "source": [
    "#R1(t1, t2, t3, ws::NTuple{3,Real}, ls::NTuple{6,Function}) = R1(t1, t2, t3, ws..., ls...)"
   ]
  },
  {
   "cell_type": "code",
   "execution_count": 20,
   "metadata": {
    "ExecuteTime": {
     "end_time": "2018-04-09T22:13:37.593000-04:00",
     "start_time": "2018-04-10T02:13:37.584Z"
    }
   },
   "outputs": [
    {
     "data": {
      "text/plain": [
       "1.0 - 0.0im"
      ]
     },
     "execution_count": 20,
     "metadata": {},
     "output_type": "execute_result"
    }
   ],
   "source": [
    "R1(0.0, 0.0, 0.0, energy(s,p), lineshape(s,p))"
   ]
  },
  {
   "cell_type": "code",
   "execution_count": null,
   "metadata": {
    "ExecuteTime": {
     "end_time": "2018-04-04T22:55:14.897000-04:00",
     "start_time": "2018-04-05T02:55:06.900Z"
    }
   },
   "outputs": [],
   "source": []
  },
  {
   "cell_type": "code",
   "execution_count": 21,
   "metadata": {
    "ExecuteTime": {
     "end_time": "2018-04-09T22:13:38.508000-04:00",
     "start_time": "2018-04-10T02:13:38.500Z"
    }
   },
   "outputs": [
    {
     "data": {
      "text/plain": [
       "true"
      ]
     },
     "execution_count": 21,
     "metadata": {},
     "output_type": "execute_result"
    }
   ],
   "source": [
    "R1(grd, energy(s,p), lineshape(s,p)) == sig_org"
   ]
  },
  {
   "cell_type": "code",
   "execution_count": 22,
   "metadata": {
    "ExecuteTime": {
     "end_time": "2018-04-09T22:13:39.169000-04:00",
     "start_time": "2018-04-10T02:13:39.150Z"
    }
   },
   "outputs": [],
   "source": [
    "f(x, y) = x+y\n",
    "g(x, y) = x-y\n",
    "for op = (:f,:g)\n",
    "    @eval begin\n",
    "        ($op)(x) = ($op)(x, x)\n",
    "        ($op)(x, y, z) = ($op)(x+y, z)\n",
    "    end\n",
    "end"
   ]
  },
  {
   "cell_type": "code",
   "execution_count": 2,
   "metadata": {
    "ExecuteTime": {
     "end_time": "2018-04-09T22:09:49.480000-04:00",
     "start_time": "2018-04-10T02:09:48.542Z"
    }
   },
   "outputs": [
    {
     "data": {
      "text/html": [
       "3 methods for generic function <b>f</b>:<ul><li> f(x) at In[1]:5</li> <li> f(x, y) at In[1]:1</li> <li> f(x, y, z) at In[1]:6</li> </ul>"
      ],
      "text/plain": [
       "# 3 methods for generic function \"f\":\n",
       "f(x) in Main at In[1]:5\n",
       "f(x, y) in Main at In[1]:1\n",
       "f(x, y, z) in Main at In[1]:6"
      ]
     },
     "execution_count": 2,
     "metadata": {},
     "output_type": "execute_result"
    }
   ],
   "source": [
    "methods(f)"
   ]
  },
  {
   "cell_type": "code",
   "execution_count": 23,
   "metadata": {
    "ExecuteTime": {
     "end_time": "2018-04-09T22:21:55.720000-04:00",
     "start_time": "2018-04-10T02:21:55.718Z"
    }
   },
   "outputs": [],
   "source": [
    "using Base.Cartesian"
   ]
  },
  {
   "cell_type": "code",
   "execution_count": 7,
   "metadata": {
    "ExecuteTime": {
     "end_time": "2018-04-09T22:12:01.739000-04:00",
     "start_time": "2018-04-10T02:12:01.674Z"
    }
   },
   "outputs": [
    {
     "ename": "LoadError",
     "evalue": "\u001b[91mTypeError: Type{...} expression: expected UnionAll, got Symbol\u001b[39m",
     "output_type": "error",
     "traceback": [
      "\u001b[91mTypeError: Type{...} expression: expected UnionAll, got Symbol\u001b[39m",
      "",
      "Stacktrace:",
      " [1] \u001b[1minclude_string\u001b[22m\u001b[22m\u001b[1m(\u001b[22m\u001b[22m::String, ::String\u001b[1m)\u001b[22m\u001b[22m at \u001b[1m.\\loading.jl:515\u001b[22m\u001b[22m"
     ]
    }
   ],
   "source": []
  },
  {
   "cell_type": "code",
   "execution_count": null,
   "metadata": {},
   "outputs": [],
   "source": []
  }
 ],
 "metadata": {
  "kernelspec": {
   "display_name": "Julia 0.6.0",
   "language": "julia",
   "name": "julia-0.6"
  },
  "language_info": {
   "file_extension": ".jl",
   "mimetype": "application/julia",
   "name": "julia",
   "version": "0.6.0"
  },
  "toc": {
   "colors": {
    "hover_highlight": "#DAA520",
    "navigate_num": "#000000",
    "navigate_text": "#333333",
    "running_highlight": "#FF0000",
    "selected_highlight": "#FFD700",
    "sidebar_border": "#EEEEEE",
    "wrapper_background": "#FFFFFF"
   },
   "moveMenuLeft": true,
   "nav_menu": {
    "height": "12px",
    "width": "252px"
   },
   "navigate_menu": true,
   "number_sections": true,
   "sideBar": true,
   "threshold": 4,
   "toc_cell": false,
   "toc_section_display": "block",
   "toc_window_display": false,
   "widenNotebook": false
  },
  "varInspector": {
   "cols": {
    "lenName": 16,
    "lenType": 16,
    "lenVar": 40
   },
   "kernels_config": {
    "python": {
     "delete_cmd_postfix": "",
     "delete_cmd_prefix": "del ",
     "library": "var_list.py",
     "varRefreshCmd": "print(var_dic_list())"
    },
    "r": {
     "delete_cmd_postfix": ") ",
     "delete_cmd_prefix": "rm(",
     "library": "var_list.r",
     "varRefreshCmd": "cat(var_dic_list()) "
    }
   },
   "types_to_exclude": [
    "module",
    "function",
    "builtin_function_or_method",
    "instance",
    "_Feature"
   ],
   "window_display": false
  }
 },
 "nbformat": 4,
 "nbformat_minor": 2
}
