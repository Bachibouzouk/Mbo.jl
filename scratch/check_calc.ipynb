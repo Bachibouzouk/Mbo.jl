{
 "cells": [
  {
   "cell_type": "code",
   "execution_count": 1,
   "metadata": {
    "ExecuteTime": {
     "end_time": "2018-04-09T22:01:21.992000-04:00",
     "start_time": "2018-04-10T02:01:21.466Z"
    }
   },
   "outputs": [],
   "source": [
    "# check automated calculation"
   ]
  },
  {
   "cell_type": "code",
   "execution_count": 2,
   "metadata": {
    "ExecuteTime": {
     "end_time": "2018-04-09T22:01:22.013000-04:00",
     "start_time": "2018-04-10T02:01:21.470Z"
    }
   },
   "outputs": [],
   "source": [
    "# Two level system"
   ]
  },
  {
   "cell_type": "code",
   "execution_count": 3,
   "metadata": {
    "ExecuteTime": {
     "end_time": "2018-04-09T22:01:22.838000-04:00",
     "start_time": "2018-04-10T02:01:21.474Z"
    }
   },
   "outputs": [],
   "source": [
    "using Mbo\n",
    "#include(\"../src\\\\core.jl\")"
   ]
  },
  {
   "cell_type": "code",
   "execution_count": 4,
   "metadata": {
    "ExecuteTime": {
     "end_time": "2018-04-09T22:01:23.153000-04:00",
     "start_time": "2018-04-10T02:01:21.482Z"
    }
   },
   "outputs": [
    {
     "data": {
      "text/plain": [
       "Mbo.TimeGrid"
      ]
     },
     "execution_count": 4,
     "metadata": {},
     "output_type": "execute_result"
    }
   ],
   "source": [
    "TimeGrid"
   ]
  },
  {
   "cell_type": "code",
   "execution_count": 5,
   "metadata": {
    "ExecuteTime": {
     "end_time": "2018-04-09T22:01:23.153000-04:00",
     "start_time": "2018-04-10T02:01:21.486Z"
    }
   },
   "outputs": [],
   "source": [
    "# using initial signal"
   ]
  },
  {
   "cell_type": "code",
   "execution_count": 6,
   "metadata": {
    "ExecuteTime": {
     "end_time": "2018-04-09T22:01:25.694000-04:00",
     "start_time": "2018-04-10T02:01:21.490Z"
    }
   },
   "outputs": [],
   "source": [
    "n = 20\n",
    "t1_g = linspace(0, 200, n)\n",
    "t2_g = linspace(0, 200, n)\n",
    "t3_g = linspace(0, 200, n)\n",
    "wframe = 1\n",
    "wa = 1-wframe\n",
    "const gamma = 0.135\n",
    "g_(t) = g_homo(t, gamma)\n",
    "\n",
    "sig_org = R1.(reshape(t1_g, (n, 1, 1)),\n",
    "                  reshape(t2_g, (1, n, 1)),\n",
    "                  reshape(t3_g, (1, 1, n)),\n",
    "                  wa, 0, wa,\n",
    "                  g_, zero, g_, zero, g_, zero);"
   ]
  },
  {
   "cell_type": "code",
   "execution_count": 7,
   "metadata": {
    "ExecuteTime": {
     "end_time": "2018-04-09T22:01:26.004000-04:00",
     "start_time": "2018-04-10T02:01:21.492Z"
    }
   },
   "outputs": [],
   "source": [
    "s = System()\n",
    "push!(s.grounds, \"G\")\n",
    "energy!(s, \"G\", 0)\n",
    "energy!(s, \"A\", wa)\n",
    "for a in states(s), b in states(s)\n",
    "    dipole!(s, a, b, 1)\n",
    "end\n",
    "lineshape!(s, \"A\", \"A\", g_)\n",
    "lineshape!(s, \"G\", \"G\", zero)\n",
    "lineshape!(s, \"G\", \"A\", zero)\n",
    "lineshape!(s, \"A\", \"G\", zero)\n",
    "\n",
    "grd = TimeGrid(t1_g, t2_g, t3_g);"
   ]
  },
  {
   "cell_type": "code",
   "execution_count": 8,
   "metadata": {
    "ExecuteTime": {
     "end_time": "2018-04-09T22:01:26.652000-04:00",
     "start_time": "2018-04-10T02:01:21.498Z"
    }
   },
   "outputs": [
    {
     "data": {
      "text/plain": [
       "HilbertPath{5}(\"G\", \"A\", \"G\", \"A\", \"G\")"
      ]
     },
     "execution_count": 8,
     "metadata": {},
     "output_type": "execute_result"
    }
   ],
   "source": [
    "p = collect(hilbert_paths(s, 3))[1]"
   ]
  },
  {
   "cell_type": "code",
   "execution_count": 9,
   "metadata": {
    "ExecuteTime": {
     "end_time": "2018-04-09T22:01:26.899000-04:00",
     "start_time": "2018-04-10T02:01:21.502Z"
    }
   },
   "outputs": [
    {
     "data": {
      "text/plain": [
       "(1.0, 1.0, 1.0, 1.0)"
      ]
     },
     "execution_count": 9,
     "metadata": {},
     "output_type": "execute_result"
    }
   ],
   "source": [
    "dipole(s, p)"
   ]
  },
  {
   "cell_type": "code",
   "execution_count": 10,
   "metadata": {
    "ExecuteTime": {
     "end_time": "2018-04-09T22:01:27.117000-04:00",
     "start_time": "2018-04-10T02:01:21.506Z"
    }
   },
   "outputs": [
    {
     "data": {
      "text/plain": [
       "(g_, zero, g_, zero, g_, zero)"
      ]
     },
     "execution_count": 10,
     "metadata": {},
     "output_type": "execute_result"
    }
   ],
   "source": [
    "lineshape(s, p)"
   ]
  },
  {
   "cell_type": "code",
   "execution_count": 11,
   "metadata": {
    "ExecuteTime": {
     "end_time": "2018-04-09T22:01:27.483000-04:00",
     "start_time": "2018-04-10T02:01:21.508Z"
    }
   },
   "outputs": [
    {
     "data": {
      "text/plain": [
       "true"
      ]
     },
     "execution_count": 11,
     "metadata": {},
     "output_type": "execute_result"
    }
   ],
   "source": [
    "R1.(reshape(t1_g, (n, 1, 1)),\n",
    "       reshape(t2_g, (1, n, 1)),\n",
    "       reshape(t3_g, (1, 1, n)),\n",
    "    energy(s, p)[1], energy(s,p)[2], energy(s,p)[3],\n",
    "    lineshape(s, p)...) == sig_org"
   ]
  },
  {
   "cell_type": "code",
   "execution_count": 12,
   "metadata": {
    "ExecuteTime": {
     "end_time": "2018-04-09T22:01:27.677000-04:00",
     "start_time": "2018-04-10T02:01:21.512Z"
    }
   },
   "outputs": [
    {
     "data": {
      "text/plain": [
       "1.0 - 0.0im"
      ]
     },
     "execution_count": 12,
     "metadata": {},
     "output_type": "execute_result"
    }
   ],
   "source": [
    "R1(0,0,0, energy(s,p), lineshape(s, p))"
   ]
  },
  {
   "cell_type": "code",
   "execution_count": 13,
   "metadata": {
    "ExecuteTime": {
     "end_time": "2018-04-09T22:01:28.083000-04:00",
     "start_time": "2018-04-10T02:01:21.516Z"
    }
   },
   "outputs": [
    {
     "data": {
      "text/plain": [
       "true"
      ]
     },
     "execution_count": 13,
     "metadata": {},
     "output_type": "execute_result"
    }
   ],
   "source": [
    "R1(grd, s, p) == sig_org"
   ]
  },
  {
   "cell_type": "code",
   "execution_count": 14,
   "metadata": {
    "ExecuteTime": {
     "end_time": "2018-04-09T22:01:31.224000-04:00",
     "start_time": "2018-04-10T02:01:31.022Z"
    }
   },
   "outputs": [
    {
     "data": {
      "text/plain": [
       "true"
      ]
     },
     "execution_count": 14,
     "metadata": {},
     "output_type": "execute_result"
    }
   ],
   "source": [
    "R1(grd, s) == sig_org"
   ]
  },
  {
   "cell_type": "code",
   "execution_count": 15,
   "metadata": {
    "ExecuteTime": {
     "end_time": "2018-04-09T22:01:43.154000-04:00",
     "start_time": "2018-04-10T02:01:43.152Z"
    }
   },
   "outputs": [],
   "source": [
    "#R1(t1, t2, t3, ws::NTuple{3,Real}, ls::NTuple{6,Function}) = R1(t1, t2, t3, ws..., ls...)"
   ]
  },
  {
   "cell_type": "code",
   "execution_count": 16,
   "metadata": {
    "ExecuteTime": {
     "end_time": "2018-04-09T22:01:44.394000-04:00",
     "start_time": "2018-04-10T02:01:44.386Z"
    }
   },
   "outputs": [
    {
     "data": {
      "text/plain": [
       "1.0 - 0.0im"
      ]
     },
     "execution_count": 16,
     "metadata": {},
     "output_type": "execute_result"
    }
   ],
   "source": [
    "R1(0.0, 0.0, 0.0, energy(s,p), lineshape(s,p))"
   ]
  },
  {
   "cell_type": "code",
   "execution_count": 17,
   "metadata": {
    "ExecuteTime": {
     "end_time": "2018-04-04T22:55:14.897000-04:00",
     "start_time": "2018-04-05T02:55:06.900Z"
    }
   },
   "outputs": [
    {
     "name": "stderr",
     "output_type": "stream",
     "text": [
      ", Real, Real}, Tuple{Function"
     ]
    }
   ],
   "source": []
  },
  {
   "cell_type": "code",
   "execution_count": 18,
   "metadata": {
    "ExecuteTime": {
     "end_time": "2018-04-04T22:55:14.905000-04:00",
     "start_time": "2018-04-05T02:55:06.902Z"
    }
   },
   "outputs": [
    {
     "name": "stderr",
     "output_type": "stream",
     "text": [
      ", Function, Function, Function, Function, Function"
     ]
    },
    {
     "ename": "LoadError",
     "evalue": "\u001b[91mUndefVarError: p not defined\u001b[39m",
     "output_type": "error",
     "traceback": [
      "\u001b[91mUndefVarError: p not defined\u001b[39m",
      "",
      "Stacktrace:",
      " [1] \u001b[1minclude_string\u001b[22m\u001b[22m\u001b[1m(\u001b[22m\u001b[22m::String, ::String\u001b[1m)\u001b[22m\u001b[22m at \u001b[1m.\\loading.jl:515\u001b[22m\u001b[22m"
     ]
    },
    {
     "name": "stderr",
     "output_type": "stream",
     "text": [
      "}) in module Mbo at C:\\work\\src\\Mbo\\src\\core.jl:13 overwritten in module Main at In[15]:1.\n",
      "WARNING: Method definition R1(Mbo.TimeGrid{#s12, 3} where #s12<:Real, Any, Any) in module Mbo at C:\\work\\src\\Mbo\\src\\core.jl:14 overwritten in module Main at In[17]:1.\n"
     ]
    }
   ],
   "source": [
    "R1(grd, energy(s,p), lineshape(s,p)) == sig_org"
   ]
  },
  {
   "cell_type": "code",
   "execution_count": null,
   "metadata": {},
   "outputs": [],
   "source": []
  }
 ],
 "metadata": {
  "kernelspec": {
   "display_name": "Julia 0.6.0",
   "language": "julia",
   "name": "julia-0.6"
  },
  "language_info": {
   "file_extension": ".jl",
   "mimetype": "application/julia",
   "name": "julia",
   "version": "0.6.0"
  },
  "toc": {
   "colors": {
    "hover_highlight": "#DAA520",
    "navigate_num": "#000000",
    "navigate_text": "#333333",
    "running_highlight": "#FF0000",
    "selected_highlight": "#FFD700",
    "sidebar_border": "#EEEEEE",
    "wrapper_background": "#FFFFFF"
   },
   "moveMenuLeft": true,
   "nav_menu": {
    "height": "12px",
    "width": "252px"
   },
   "navigate_menu": true,
   "number_sections": true,
   "sideBar": true,
   "threshold": 4,
   "toc_cell": false,
   "toc_section_display": "block",
   "toc_window_display": false,
   "widenNotebook": false
  },
  "varInspector": {
   "cols": {
    "lenName": 16,
    "lenType": 16,
    "lenVar": 40
   },
   "kernels_config": {
    "python": {
     "delete_cmd_postfix": "",
     "delete_cmd_prefix": "del ",
     "library": "var_list.py",
     "varRefreshCmd": "print(var_dic_list())"
    },
    "r": {
     "delete_cmd_postfix": ") ",
     "delete_cmd_prefix": "rm(",
     "library": "var_list.r",
     "varRefreshCmd": "cat(var_dic_list()) "
    }
   },
   "types_to_exclude": [
    "module",
    "function",
    "builtin_function_or_method",
    "instance",
    "_Feature"
   ],
   "window_display": false
  }
 },
 "nbformat": 4,
 "nbformat_minor": 2
}
