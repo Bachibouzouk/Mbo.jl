{
 "cells": [
  {
   "cell_type": "code",
   "execution_count": 1,
   "metadata": {
    "ExecuteTime": {
     "end_time": "2018-04-04T16:09:09.458000-04:00",
     "start_time": "2018-04-04T20:09:04.954Z"
    }
   },
   "outputs": [],
   "source": [
    "# play with TimeGrid"
   ]
  },
  {
   "cell_type": "code",
   "execution_count": 43,
   "metadata": {
    "ExecuteTime": {
     "end_time": "2018-04-04T16:23:12.828000-04:00",
     "start_time": "2018-04-04T20:23:12.822Z"
    }
   },
   "outputs": [],
   "source": [
    "using Base.Cartesian"
   ]
  },
  {
   "cell_type": "code",
   "execution_count": 102,
   "metadata": {
    "ExecuteTime": {
     "end_time": "2018-04-04T16:35:56.349000-04:00",
     "start_time": "2018-04-04T20:35:56.340Z"
    }
   },
   "outputs": [
    {
     "data": {
      "text/plain": [
       "grid (generic function with 1 method)"
      ]
     },
     "execution_count": 102,
     "metadata": {},
     "output_type": "execute_result"
    }
   ],
   "source": [
    "type TimeGrid{T,N}# where {T,N}\n",
    "    times::NTuple{N,Array{T,1}}\n",
    "end\n",
    "TimeGrid(args::NTuple{N,AbstractArray{T,1}}) where {T,N} = TimeGrid{T,N}(args)\n",
    "TimeGrid(args...) = TimeGrid(args)\n",
    "function grid(tg::TimeGrid{T,N}) where {T,N}\n",
    "    Tuple(reshape(t_,\n",
    "             Tuple(setindex!(ones(Int32, N), length(t_), i)))\n",
    "    for (i, t_) in enumerate(tg.times))\n",
    "end"
   ]
  },
  {
   "cell_type": "code",
   "execution_count": 108,
   "metadata": {
    "ExecuteTime": {
     "end_time": "2018-04-04T16:36:16.117000-04:00",
     "start_time": "2018-04-04T20:36:16.112Z"
    }
   },
   "outputs": [
    {
     "data": {
      "text/plain": [
       "TimeGrid{Float64,3}(([0.0, 1000.0, 2000.0], [0.0, 400.0, 800.0, 1200.0, 1600.0, 2000.0], [0.0, 1000.0, 2000.0]))"
      ]
     },
     "execution_count": 108,
     "metadata": {},
     "output_type": "execute_result"
    }
   ],
   "source": [
    "n=3\n",
    "t1 = linspace(0,2000, n)\n",
    "t2 = linspace(0,2000, n*2)\n",
    "t3 = linspace(0,2000, n)\n",
    "tg = TimeGrid((t1, t2, t3))"
   ]
  },
  {
   "cell_type": "code",
   "execution_count": 109,
   "metadata": {
    "ExecuteTime": {
     "end_time": "2018-04-04T16:36:17.229000-04:00",
     "start_time": "2018-04-04T20:36:17.226Z"
    }
   },
   "outputs": [
    {
     "data": {
      "text/plain": [
       "TimeGrid{Float64,3}"
      ]
     },
     "execution_count": 109,
     "metadata": {},
     "output_type": "execute_result"
    }
   ],
   "source": [
    "tg = TimeGrid(t1, t2, t3)\n",
    "typeof(tg)"
   ]
  },
  {
   "cell_type": "code",
   "execution_count": 113,
   "metadata": {
    "ExecuteTime": {
     "end_time": "2018-04-04T16:36:33.616000-04:00",
     "start_time": "2018-04-04T20:36:33.610Z"
    }
   },
   "outputs": [
    {
     "ename": "LoadError",
     "evalue": "\u001b[91msyntax: \"...\" expression outside call\u001b[39m",
     "output_type": "error",
     "traceback": [
      "\u001b[91msyntax: \"...\" expression outside call\u001b[39m",
      "",
      "Stacktrace:",
      " [1] \u001b[1minclude_string\u001b[22m\u001b[22m\u001b[1m(\u001b[22m\u001b[22m::String, ::String\u001b[1m)\u001b[22m\u001b[22m at \u001b[1m.\\loading.jl:515\u001b[22m\u001b[22m"
     ]
    }
   ],
   "source": [
    "grid(tg)..."
   ]
  },
  {
   "cell_type": "code",
   "execution_count": 106,
   "metadata": {
    "ExecuteTime": {
     "end_time": "2018-04-04T16:36:02.050000-04:00",
     "start_time": "2018-04-04T20:36:02.046Z"
    }
   },
   "outputs": [
    {
     "data": {
      "text/plain": [
       "1×1×10 Array{Float64,3}:\n",
       "[:, :, 1] =\n",
       " 0.0\n",
       "\n",
       "[:, :, 2] =\n",
       " 222.222\n",
       "\n",
       "[:, :, 3] =\n",
       " 444.444\n",
       "\n",
       "[:, :, 4] =\n",
       " 666.667\n",
       "\n",
       "[:, :, 5] =\n",
       " 888.889\n",
       "\n",
       "[:, :, 6] =\n",
       " 1111.11\n",
       "\n",
       "[:, :, 7] =\n",
       " 1333.33\n",
       "\n",
       "[:, :, 8] =\n",
       " 1555.56\n",
       "\n",
       "[:, :, 9] =\n",
       " 1777.78\n",
       "\n",
       "[:, :, 10] =\n",
       " 2000.0"
      ]
     },
     "execution_count": 106,
     "metadata": {},
     "output_type": "execute_result"
    }
   ],
   "source": [
    "c"
   ]
  },
  {
   "cell_type": "code",
   "execution_count": 4,
   "metadata": {
    "ExecuteTime": {
     "end_time": "2018-04-04T16:10:29.180000-04:00",
     "start_time": "2018-04-04T20:10:29.176Z"
    }
   },
   "outputs": [
    {
     "data": {
      "text/plain": [
       "f (generic function with 1 method)"
      ]
     },
     "execution_count": 4,
     "metadata": {},
     "output_type": "execute_result"
    }
   ],
   "source": [
    "function f(args)\n",
    "    @show args\n",
    "end"
   ]
  },
  {
   "cell_type": "code",
   "execution_count": 6,
   "metadata": {
    "ExecuteTime": {
     "end_time": "2018-04-04T16:10:35.227000-04:00",
     "start_time": "2018-04-04T20:10:34.924Z"
    }
   },
   "outputs": [
    {
     "name": "stdout",
     "output_type": "stream",
     "text": [
      "args = (0.0:10.050251256281408:2000.0, 0.0:10.050251256281408:2000.0, 0.0:10.050251256281408:2000.0)\n"
     ]
    },
    {
     "data": {
      "text/plain": [
       "(0.0:10.050251256281408:2000.0, 0.0:10.050251256281408:2000.0, 0.0:10.050251256281408:2000.0)"
      ]
     },
     "execution_count": 6,
     "metadata": {},
     "output_type": "execute_result"
    }
   ],
   "source": [
    "f((t1, t2, t3))"
   ]
  },
  {
   "cell_type": "code",
   "execution_count": 14,
   "metadata": {
    "ExecuteTime": {
     "end_time": "2018-04-04T16:12:29.719000-04:00",
     "start_time": "2018-04-04T20:12:29.444Z"
    }
   },
   "outputs": [
    {
     "data": {
      "text/plain": [
       "g (generic function with 1 method)"
      ]
     },
     "execution_count": 14,
     "metadata": {},
     "output_type": "execute_result"
    }
   ],
   "source": [
    "function g(args...)\n",
    "    @show args\n",
    "    @show typeof(args)\n",
    "end"
   ]
  },
  {
   "cell_type": "code",
   "execution_count": 15,
   "metadata": {
    "ExecuteTime": {
     "end_time": "2018-04-04T16:12:30.486000-04:00",
     "start_time": "2018-04-04T20:12:30.314Z"
    }
   },
   "outputs": [
    {
     "name": "stdout",
     "output_type": "stream",
     "text": [
      "args = (0.0:0.5:2.0, 3, 5)\n",
      "typeof(args) = Tuple{StepRangeLen{Float64,Base.TwicePrecision{Float64},Base.TwicePrecision{Float64}},Int64,Int64}\n"
     ]
    },
    {
     "data": {
      "text/plain": [
       "Tuple{StepRangeLen{Float64,Base.TwicePrecision{Float64},Base.TwicePrecision{Float64}},Int64,Int64}"
      ]
     },
     "execution_count": 15,
     "metadata": {},
     "output_type": "execute_result"
    }
   ],
   "source": [
    "g(linspace(0,2,5),3,5)"
   ]
  },
  {
   "cell_type": "code",
   "execution_count": null,
   "metadata": {},
   "outputs": [],
   "source": []
  }
 ],
 "metadata": {
  "kernelspec": {
   "display_name": "Julia 0.6.0",
   "language": "julia",
   "name": "julia-0.6"
  },
  "language_info": {
   "file_extension": ".jl",
   "mimetype": "application/julia",
   "name": "julia",
   "version": "0.6.0"
  },
  "toc": {
   "colors": {
    "hover_highlight": "#DAA520",
    "navigate_num": "#000000",
    "navigate_text": "#333333",
    "running_highlight": "#FF0000",
    "selected_highlight": "#FFD700",
    "sidebar_border": "#EEEEEE",
    "wrapper_background": "#FFFFFF"
   },
   "moveMenuLeft": true,
   "nav_menu": {
    "height": "12px",
    "width": "252px"
   },
   "navigate_menu": true,
   "number_sections": true,
   "sideBar": true,
   "threshold": 4,
   "toc_cell": false,
   "toc_section_display": "block",
   "toc_window_display": false,
   "widenNotebook": false
  },
  "varInspector": {
   "cols": {
    "lenName": 16,
    "lenType": 16,
    "lenVar": 40
   },
   "kernels_config": {
    "python": {
     "delete_cmd_postfix": "",
     "delete_cmd_prefix": "del ",
     "library": "var_list.py",
     "varRefreshCmd": "print(var_dic_list())"
    },
    "r": {
     "delete_cmd_postfix": ") ",
     "delete_cmd_prefix": "rm(",
     "library": "var_list.r",
     "varRefreshCmd": "cat(var_dic_list()) "
    }
   },
   "types_to_exclude": [
    "module",
    "function",
    "builtin_function_or_method",
    "instance",
    "_Feature"
   ],
   "window_display": false
  }
 },
 "nbformat": 4,
 "nbformat_minor": 2
}
