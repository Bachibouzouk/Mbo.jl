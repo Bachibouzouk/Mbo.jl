{
 "cells": [
  {
   "cell_type": "code",
   "execution_count": 1,
   "metadata": {
    "ExecuteTime": {
     "end_time": "2018-04-04T15:21:06.004000-04:00",
     "start_time": "2018-04-04T19:21:05.558Z"
    }
   },
   "outputs": [],
   "source": [
    "# scratchbook for hilbert paths"
   ]
  },
  {
   "cell_type": "code",
   "execution_count": 1,
   "metadata": {
    "ExecuteTime": {
     "end_time": "2018-04-04T15:56:41.758000-04:00",
     "start_time": "2018-04-04T19:56:37.734Z"
    }
   },
   "outputs": [],
   "source": [
    "using BenchmarkTools\n",
    "#using Lazy: filter\n",
    "using Mbo"
   ]
  },
  {
   "cell_type": "code",
   "execution_count": 2,
   "metadata": {
    "ExecuteTime": {
     "end_time": "2018-04-04T15:56:42.146000-04:00",
     "start_time": "2018-04-04T19:56:37.834Z"
    }
   },
   "outputs": [
    {
     "data": {
      "text/plain": [
       "hilbert_paths (generic function with 1 method)"
      ]
     },
     "execution_count": 2,
     "metadata": {},
     "output_type": "execute_result"
    }
   ],
   "source": [
    "# first, how to generate...\n",
    "include(\"../src/core.jl\")\n"
   ]
  },
  {
   "cell_type": "code",
   "execution_count": 3,
   "metadata": {
    "ExecuteTime": {
     "end_time": "2018-04-04T15:56:42.596000-04:00",
     "start_time": "2018-04-04T19:56:41.662Z"
    }
   },
   "outputs": [],
   "source": [
    "s = System(Set([\"G\"]), Dict{String, Float64}(), Dict{Tuple{String,String}, Float64}(), Dict{Tuple{String,String}, Function}())\n",
    "energy!(s, \"G\", 0)\n",
    "for i=1:5\n",
    "    energy!(s, \"X$i\", 0.94+0.02i)\n",
    "end\n",
    "energy!(s, \"F\", 1.9)\n",
    "for a=states(s), b=(states(s))\n",
    "    dipole!(s, a, b, 0)\n",
    "end\n",
    "\n",
    "for a=states(s)\n",
    "    !(a in [\"G\", \"F\"]) && (dipole!(s, \"G\", a, 1); dipole!(s, \"F\", a, 1))\n",
    "end \n",
    "for a=states(s), b=states(s)\n",
    "    lineshape!(s, a, b, t->g_homo(t, 0.02))\n",
    "end"
   ]
  },
  {
   "cell_type": "code",
   "execution_count": 5,
   "metadata": {
    "ExecuteTime": {
     "end_time": "2018-04-04T15:25:59.617000-04:00",
     "start_time": "2018-04-04T19:25:59.438Z"
    }
   },
   "outputs": [
    {
     "data": {
      "text/plain": [
       "false"
      ]
     },
     "execution_count": 5,
     "metadata": {},
     "output_type": "execute_result"
    }
   ],
   "source": [
    "R1(t1, t2, t3, s::System) = R1(t1, t2, t3, s::S)"
   ]
  },
  {
   "cell_type": "code",
   "execution_count": 13,
   "metadata": {
    "ExecuteTime": {
     "end_time": "2018-03-26T23:47:18.370000-04:00",
     "start_time": "2018-03-27T03:47:18.158Z"
    }
   },
   "outputs": [
    {
     "data": {
      "text/plain": [
       "(true, false, true, true)"
      ]
     },
     "execution_count": 13,
     "metadata": {},
     "output_type": "execute_result"
    }
   ],
   "source": [
    "p1 == p1, p2 == p1, p3 == p1, isequal(p1, p3)"
   ]
  }
 ],
 "metadata": {
  "kernelspec": {
   "display_name": "Julia 0.6.0",
   "language": "julia",
   "name": "julia-0.6"
  },
  "language_info": {
   "file_extension": ".jl",
   "mimetype": "application/julia",
   "name": "julia",
   "version": "0.6.0"
  },
  "toc": {
   "colors": {
    "hover_highlight": "#DAA520",
    "navigate_num": "#000000",
    "navigate_text": "#333333",
    "running_highlight": "#FF0000",
    "selected_highlight": "#FFD700",
    "sidebar_border": "#EEEEEE",
    "wrapper_background": "#FFFFFF"
   },
   "moveMenuLeft": true,
   "nav_menu": {
    "height": "12px",
    "width": "252px"
   },
   "navigate_menu": true,
   "number_sections": true,
   "sideBar": true,
   "threshold": 4,
   "toc_cell": false,
   "toc_section_display": "block",
   "toc_window_display": false,
   "widenNotebook": false
  },
  "varInspector": {
   "cols": {
    "lenName": 16,
    "lenType": 16,
    "lenVar": 40
   },
   "kernels_config": {
    "python": {
     "delete_cmd_postfix": "",
     "delete_cmd_prefix": "del ",
     "library": "var_list.py",
     "varRefreshCmd": "print(var_dic_list())"
    },
    "r": {
     "delete_cmd_postfix": ") ",
     "delete_cmd_prefix": "rm(",
     "library": "var_list.r",
     "varRefreshCmd": "cat(var_dic_list()) "
    }
   },
   "types_to_exclude": [
    "module",
    "function",
    "builtin_function_or_method",
    "instance",
    "_Feature"
   ],
   "window_display": false
  }
 },
 "nbformat": 4,
 "nbformat_minor": 2
}
