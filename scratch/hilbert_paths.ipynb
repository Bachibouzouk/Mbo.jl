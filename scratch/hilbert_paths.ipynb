{
 "cells": [
  {
   "cell_type": "code",
   "execution_count": 1,
   "metadata": {
    "ExecuteTime": {
     "end_time": "2018-04-04T23:13:19.987000-04:00",
     "start_time": "2018-04-05T03:13:17.564Z"
    }
   },
   "outputs": [],
   "source": [
    "# scratchbook for hilbert paths"
   ]
  },
  {
   "cell_type": "code",
   "execution_count": 2,
   "metadata": {
    "ExecuteTime": {
     "end_time": "2018-04-04T23:13:20.867000-04:00",
     "start_time": "2018-04-05T03:13:17.686Z"
    }
   },
   "outputs": [],
   "source": [
    "using BenchmarkTools\n",
    "#using Lazy: filter\n",
    "using Mbo"
   ]
  },
  {
   "cell_type": "code",
   "execution_count": 3,
   "metadata": {
    "ExecuteTime": {
     "end_time": "2018-04-04T23:13:27.902000-04:00",
     "start_time": "2018-04-05T03:13:27.900Z"
    }
   },
   "outputs": [],
   "source": [
    "# first, how to generate...\n",
    "#using M"
   ]
  },
  {
   "cell_type": "code",
   "execution_count": 4,
   "metadata": {
    "ExecuteTime": {
     "end_time": "2018-04-04T23:13:29.740000-04:00",
     "start_time": "2018-04-05T03:13:29.362Z"
    }
   },
   "outputs": [],
   "source": [
    "s = System(Set([\"G\"]), Dict{String, Float64}(), Dict{Tuple{String,String}, Float64}(), Dict{Tuple{String,String}, Function}())\n",
    "energy!(s, \"G\", 0)\n",
    "for i=1:5\n",
    "    energy!(s, \"X$i\", 0.94+0.02i)\n",
    "end\n",
    "energy!(s, \"F\", 1.9)\n",
    "for a=states(s), b=(states(s))\n",
    "    dipole!(s, a, b, 0)\n",
    "end\n",
    "\n",
    "for a=states(s)\n",
    "    !(a in [\"G\", \"F\"]) && (dipole!(s, \"G\", a, 1); dipole!(s, \"F\", a, 1))\n",
    "end \n",
    "for a=states(s), b=states(s)\n",
    "    lineshape!(s, a, b, t->g_homo(t, 0.02))\n",
    "end"
   ]
  },
  {
   "cell_type": "code",
   "execution_count": 5,
   "metadata": {
    "ExecuteTime": {
     "end_time": "2018-04-04T23:13:31.325000-04:00",
     "start_time": "2018-04-05T03:13:31.026Z"
    }
   },
   "outputs": [
    {
     "data": {
      "text/plain": [
       "R1 (generic function with 1 method)"
      ]
     },
     "execution_count": 5,
     "metadata": {},
     "output_type": "execute_result"
    }
   ],
   "source": [
    "R1(t1, t2, t3, s::System) = R1(t1, t2, t3, s::S)"
   ]
  },
  {
   "cell_type": "code",
   "execution_count": 6,
   "metadata": {
    "ExecuteTime": {
     "end_time": "2018-04-04T23:13:34.069000-04:00",
     "start_time": "2018-04-05T03:13:33.590Z"
    }
   },
   "outputs": [
    {
     "ename": "LoadError",
     "evalue": "\u001b[91mUndefVarError: p1 not defined\u001b[39m",
     "output_type": "error",
     "traceback": [
      "\u001b[91mUndefVarError: p1 not defined\u001b[39m",
      "",
      "Stacktrace:",
      " [1] \u001b[1minclude_string\u001b[22m\u001b[22m\u001b[1m(\u001b[22m\u001b[22m::String, ::String\u001b[1m)\u001b[22m\u001b[22m at \u001b[1m.\\loading.jl:515\u001b[22m\u001b[22m"
     ]
    }
   ],
   "source": [
    "p1 == p1, p2 == p1, p3 == p1, isequal(p1, p3)"
   ]
  },
  {
   "cell_type": "code",
   "execution_count": null,
   "metadata": {},
   "outputs": [],
   "source": []
  }
 ],
 "metadata": {
  "kernelspec": {
   "display_name": "Julia 0.6.0",
   "language": "julia",
   "name": "julia-0.6"
  },
  "language_info": {
   "file_extension": ".jl",
   "mimetype": "application/julia",
   "name": "julia",
   "version": "0.6.0"
  },
  "toc": {
   "colors": {
    "hover_highlight": "#DAA520",
    "navigate_num": "#000000",
    "navigate_text": "#333333",
    "running_highlight": "#FF0000",
    "selected_highlight": "#FFD700",
    "sidebar_border": "#EEEEEE",
    "wrapper_background": "#FFFFFF"
   },
   "moveMenuLeft": true,
   "nav_menu": {
    "height": "12px",
    "width": "252px"
   },
   "navigate_menu": true,
   "number_sections": true,
   "sideBar": true,
   "threshold": 4,
   "toc_cell": false,
   "toc_section_display": "block",
   "toc_window_display": false,
   "widenNotebook": false
  },
  "varInspector": {
   "cols": {
    "lenName": 16,
    "lenType": 16,
    "lenVar": 40
   },
   "kernels_config": {
    "python": {
     "delete_cmd_postfix": "",
     "delete_cmd_prefix": "del ",
     "library": "var_list.py",
     "varRefreshCmd": "print(var_dic_list())"
    },
    "r": {
     "delete_cmd_postfix": ") ",
     "delete_cmd_prefix": "rm(",
     "library": "var_list.r",
     "varRefreshCmd": "cat(var_dic_list()) "
    }
   },
   "types_to_exclude": [
    "module",
    "function",
    "builtin_function_or_method",
    "instance",
    "_Feature"
   ],
   "window_display": false
  }
 },
 "nbformat": 4,
 "nbformat_minor": 2
}
