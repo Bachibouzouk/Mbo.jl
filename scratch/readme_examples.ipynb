{
 "cells": [
  {
   "cell_type": "code",
   "execution_count": 1,
   "metadata": {
    "ExecuteTime": {
     "end_time": "2018-05-24T14:57:58.493000-04:00",
     "start_time": "2018-05-24T18:57:58.079Z"
    }
   },
   "outputs": [],
   "source": [
    "# making sure they work..."
   ]
  },
  {
   "cell_type": "code",
   "execution_count": 1,
   "metadata": {
    "ExecuteTime": {
     "end_time": "2018-05-24T15:59:55.727000-04:00",
     "start_time": "2018-05-24T19:59:47.186Z"
    }
   },
   "outputs": [],
   "source": [
    "using Mbo"
   ]
  },
  {
   "cell_type": "markdown",
   "metadata": {},
   "source": [
    "# Introductory case"
   ]
  },
  {
   "cell_type": "code",
   "execution_count": 8,
   "metadata": {
    "ExecuteTime": {
     "end_time": "2018-05-24T16:07:23.268000-04:00",
     "start_time": "2018-05-24T20:07:22.731Z"
    }
   },
   "outputs": [
    {
     "data": {
      "text/plain": [
       "((101,), Complex{Float64}, (101, 101, 101), Complex{Float64})"
      ]
     },
     "execution_count": 8,
     "metadata": {},
     "output_type": "execute_result"
    }
   ],
   "source": [
    "s = System(\"g\") # use \"g\" as a ground state\n",
    "# Set energy for \"e\" to 1.5 eV, converted to angular PHz\n",
    "energy!(s, \"e\", ev2angphz(1.5)) \n",
    "# Set the transition dipole moment for g<->e\n",
    "dipole!(s, \"g\", \"e\", 1.0)\n",
    "# Define a lineshape functions (some common cases are supplied).\n",
    "ls(t) = 0.002*t + 0.5*(0.002*t)^2\n",
    "lineshape!(s, \"e\", \"e\", ls)\n",
    "# setup a calculation grid\n",
    "tg = TimeGrid(0.0:100, 0.0:100, 0.0:100)\n",
    "# compute. tedious bookkeeping done by the code.\n",
    "lin = linear(tg, s) # linear response\n",
    "rr = R2(tg, s) + R3(tg, s) # rephasing\n",
    "rn = R1(tg, s) + R4(tg, s) # non-rephasing\n",
    "# go ahead and process to your wishes.\n",
    "size(lin), eltype(lin), size(rr), eltype(rr)"
   ]
  },
  {
   "cell_type": "markdown",
   "metadata": {
    "ExecuteTime": {
     "end_time": "2018-05-24T15:46:11.304000-04:00",
     "start_time": "2018-05-24T19:46:11.298Z"
    }
   },
   "source": [
    "# Longer example from `Basics`"
   ]
  },
  {
   "cell_type": "code",
   "execution_count": 9,
   "metadata": {
    "ExecuteTime": {
     "end_time": "2018-05-24T16:08:10.576000-04:00",
     "start_time": "2018-05-24T20:08:10.217Z"
    }
   },
   "outputs": [
    {
     "name": "stdout",
     "output_type": "stream",
     "text": [
      "String[\"g\", \"x1\", \"x2\"]"
     ]
    }
   ],
   "source": [
    "s = System(\"g\")\n",
    "# set energies\n",
    "energy!(s, \"x1\", 1.2)\n",
    "energy!(s, \"x2\", 1.4)\n",
    "# read energies:\n",
    "@assert energy(s, \"x2\")-energy(s, \"x1\") == 1.4-1.2\n",
    "@assert length(states(s)) == 3\n",
    "# set transition dipole momments.\n",
    "dipole!(s, \"g\", \"x1\", 1.0) # this sets both g->x1 and x1->g\n",
    "dipole!(s, \"g\", \"x2\", 1.5)\n",
    "# IMPORTANT: if nonzero, the x1->x2 transition will be part of the calculation\n",
    "dipole!(s, \"x1\", \"x2\", 0)\n",
    "# read transition dipole\n",
    "@assert dipole(s, \"g\", \"x1\") == dipole(s, \"x1\", \"g\")\n",
    "print(states(s))"
   ]
  },
  {
   "cell_type": "code",
   "execution_count": 10,
   "metadata": {
    "ExecuteTime": {
     "end_time": "2018-05-24T16:09:06.960000-04:00",
     "start_time": "2018-05-24T20:09:06.956Z"
    }
   },
   "outputs": [],
   "source": [
    "# set lineshape functions\n",
    "f(t) = 0.1*t\n",
    "lineshape!(s, \"x1\", \"x1\", f) # accept any callable.\n",
    "lineshape!(s, \"x2\", \"x2\", t->g_homo(t, 0.1)) # anonymous function in Julia: x->...\n",
    "lineshape!(s, \"x1\", \"x2\", zero) # uncorrelated.\n",
    "lineshape!(s, \"x2\", \"x1\", zero) # uncorrelated.\n",
    "# read lineshape function\n",
    "@assert lineshape(s, \"x1\", \"x1\") === f"
   ]
  },
  {
   "cell_type": "code",
   "execution_count": 11,
   "metadata": {
    "ExecuteTime": {
     "end_time": "2018-05-24T16:09:31.525000-04:00",
     "start_time": "2018-05-24T20:09:30.145Z"
    }
   },
   "outputs": [
    {
     "data": {
      "text/plain": [
       "(21, 11, 21)"
      ]
     },
     "execution_count": 11,
     "metadata": {},
     "output_type": "execute_result"
    }
   ],
   "source": [
    "t1=0:20.0 # 0 to 20 included in steps of 1.0\n",
    "t2=0:10.0:100.0 # 0 to 100 included in steps of 10.0\n",
    "t3=0:20.0\n",
    "tg = TimeGrid(t1, t2, t3)\n",
    "rtot = R1(tg, s) + R2(tg, s) + R3(tg, s) + R4(tg, s)\n",
    "size(tg)"
   ]
  },
  {
   "cell_type": "code",
   "execution_count": 13,
   "metadata": {
    "ExecuteTime": {
     "end_time": "2018-05-24T16:10:32.660000-04:00",
     "start_time": "2018-05-24T20:10:32.656Z"
    }
   },
   "outputs": [
    {
     "name": "stdout",
     "output_type": "stream",
     "text": [
      "<g,x1,g,x1,g>"
     ]
    }
   ],
   "source": [
    "hpaths = collect(hilbert_paths(s, 3)) # third order hilbert paths\n",
    "@assert length(hpaths) == 4\n",
    "# compute for a specific path, pick the first.\n",
    "p = hpaths[1]\n",
    "r1 = R1(tg, s, p)\n",
    "print(p)"
   ]
  },
  {
   "cell_type": "code",
   "execution_count": 14,
   "metadata": {
    "ExecuteTime": {
     "end_time": "2018-05-24T16:10:39.354000-04:00",
     "start_time": "2018-05-24T20:10:38.874Z"
    }
   },
   "outputs": [],
   "source": [
    "rlin = linear(tg, s) # use the first time argument.\n",
    "lin_paths = collect(hilbert_paths(s, 1))\n",
    "lin_resp = [linear(tg, s, p) for p=lin_paths] # individual contributions.\n",
    "@assert all(rlin .== sum(lin_resp))"
   ]
  },
  {
   "cell_type": "code",
   "execution_count": null,
   "metadata": {},
   "outputs": [],
   "source": []
  },
  {
   "cell_type": "code",
   "execution_count": null,
   "metadata": {},
   "outputs": [],
   "source": []
  }
 ],
 "metadata": {
  "kernelspec": {
   "display_name": "Julia 0.6.0",
   "language": "julia",
   "name": "julia-0.6"
  },
  "language_info": {
   "file_extension": ".jl",
   "mimetype": "application/julia",
   "name": "julia",
   "version": "0.6.0"
  },
  "toc": {
   "colors": {
    "hover_highlight": "#DAA520",
    "navigate_num": "#000000",
    "navigate_text": "#333333",
    "running_highlight": "#FF0000",
    "selected_highlight": "#FFD700",
    "sidebar_border": "#EEEEEE",
    "wrapper_background": "#FFFFFF"
   },
   "moveMenuLeft": true,
   "nav_menu": {
    "height": "50px",
    "width": "252px"
   },
   "navigate_menu": true,
   "number_sections": true,
   "sideBar": true,
   "threshold": 4,
   "toc_cell": false,
   "toc_section_display": "block",
   "toc_window_display": false,
   "widenNotebook": false
  },
  "varInspector": {
   "cols": {
    "lenName": 16,
    "lenType": 16,
    "lenVar": 40
   },
   "kernels_config": {
    "python": {
     "delete_cmd_postfix": "",
     "delete_cmd_prefix": "del ",
     "library": "var_list.py",
     "varRefreshCmd": "print(var_dic_list())"
    },
    "r": {
     "delete_cmd_postfix": ") ",
     "delete_cmd_prefix": "rm(",
     "library": "var_list.r",
     "varRefreshCmd": "cat(var_dic_list()) "
    }
   },
   "types_to_exclude": [
    "module",
    "function",
    "builtin_function_or_method",
    "instance",
    "_Feature"
   ],
   "window_display": false
  }
 },
 "nbformat": 4,
 "nbformat_minor": 2
}
